{
  "nbformat": 4,
  "nbformat_minor": 0,
  "metadata": {
    "accelerator": "GPU",
    "colab": {
      "provenance": [],
      "include_colab_link": true
    },
    "kernelspec": {
      "display_name": "Python 3",
      "name": "python3"
    },
    "language_info": {
      "name": "python"
    }
  },
  "cells": [
    {
      "cell_type": "markdown",
      "metadata": {
        "id": "view-in-github",
        "colab_type": "text"
      },
      "source": [
        "<a href=\"https://colab.research.google.com/github/Herzanet002/ML2023/blob/main/%D0%90%D0%BD%D0%B0%D0%BB%D0%B8%D0%B7_%D1%82%D0%BE%D0%BD%D0%B0%D0%BB%D1%8C%D0%BD%D0%BE%D1%81%D1%82%D0%B8_%D1%82%D0%B5%D0%BA%D1%81%D1%82%D0%B0.ipynb\" target=\"_parent\"><img src=\"https://colab.research.google.com/assets/colab-badge.svg\" alt=\"Open In Colab\"/></a>"
      ]
    },
    {
      "cell_type": "code",
      "source": [
        "!pip install torchtext"
      ],
      "metadata": {
        "colab": {
          "base_uri": "https://localhost:8080/"
        },
        "id": "CFAaziZdDE39",
        "outputId": "adb8d9ef-b2af-4db8-90c1-a079f02f7b4d"
      },
      "execution_count": null,
      "outputs": [
        {
          "output_type": "stream",
          "name": "stdout",
          "text": [
            "Looking in indexes: https://pypi.org/simple, https://us-python.pkg.dev/colab-wheels/public/simple/\n",
            "Collecting torchtext==0.10.0\n",
            "  Downloading torchtext-0.10.0-cp37-cp37m-manylinux1_x86_64.whl (7.6 MB)\n",
            "\u001b[K     |████████████████████████████████| 7.6 MB 17.6 MB/s \n",
            "\u001b[?25hRequirement already satisfied: tqdm in /usr/local/lib/python3.7/dist-packages (from torchtext==0.10.0) (4.64.0)\n",
            "Requirement already satisfied: requests in /usr/local/lib/python3.7/dist-packages (from torchtext==0.10.0) (2.23.0)\n",
            "Requirement already satisfied: numpy in /usr/local/lib/python3.7/dist-packages (from torchtext==0.10.0) (1.21.6)\n",
            "Collecting torch==1.9.0\n",
            "  Downloading torch-1.9.0-cp37-cp37m-manylinux1_x86_64.whl (831.4 MB)\n",
            "\u001b[K     |████████████████████████████████| 831.4 MB 2.6 kB/s \n",
            "\u001b[?25hRequirement already satisfied: typing-extensions in /usr/local/lib/python3.7/dist-packages (from torch==1.9.0->torchtext==0.10.0) (4.1.1)\n",
            "Requirement already satisfied: certifi>=2017.4.17 in /usr/local/lib/python3.7/dist-packages (from requests->torchtext==0.10.0) (2022.6.15)\n",
            "Requirement already satisfied: idna<3,>=2.5 in /usr/local/lib/python3.7/dist-packages (from requests->torchtext==0.10.0) (2.10)\n",
            "Requirement already satisfied: urllib3!=1.25.0,!=1.25.1,<1.26,>=1.21.1 in /usr/local/lib/python3.7/dist-packages (from requests->torchtext==0.10.0) (1.24.3)\n",
            "Requirement already satisfied: chardet<4,>=3.0.2 in /usr/local/lib/python3.7/dist-packages (from requests->torchtext==0.10.0) (3.0.4)\n",
            "Installing collected packages: torch, torchtext\n",
            "  Attempting uninstall: torch\n",
            "    Found existing installation: torch 1.11.0+cu113\n",
            "    Uninstalling torch-1.11.0+cu113:\n",
            "      Successfully uninstalled torch-1.11.0+cu113\n",
            "  Attempting uninstall: torchtext\n",
            "    Found existing installation: torchtext 0.12.0\n",
            "    Uninstalling torchtext-0.12.0:\n",
            "      Successfully uninstalled torchtext-0.12.0\n",
            "\u001b[31mERROR: pip's dependency resolver does not currently take into account all the packages that are installed. This behaviour is the source of the following dependency conflicts.\n",
            "torchvision 0.12.0+cu113 requires torch==1.11.0, but you have torch 1.9.0 which is incompatible.\n",
            "torchaudio 0.11.0+cu113 requires torch==1.11.0, but you have torch 1.9.0 which is incompatible.\u001b[0m\n",
            "Successfully installed torch-1.9.0 torchtext-0.10.0\n"
          ]
        }
      ]
    },
    {
      "cell_type": "code",
      "metadata": {
        "id": "FbrsQDCtUuwU"
      },
      "source": [
        "import random\n",
        "import spacy\n",
        "import time\n",
        "\n",
        "import torch\n",
        "import torch.nn as nn\n",
        "import torch.optim as optim\n",
        "import torchtext\n",
        "from torchtext.legacy import data\n",
        "from torchtext.legacy import datasets"
      ],
      "execution_count": null,
      "outputs": []
    },
    {
      "cell_type": "code",
      "source": [
        "seed = 42\n",
        "\n",
        "torch.manual_seed(seed)\n",
        "torch.backends.cudnn.deterministic = True\n",
        "device = torch.device('cuda' if torch.cuda.is_available() else 'cpu')\n",
        "\n",
        "txt = data.Field(tokenize = 'spacy',\n",
        "                  tokenizer_language = 'en_core_web_sm',\n",
        "                  include_lengths = True)\n",
        "\n",
        "labels = data.LabelField(dtype = torch.float)"
      ],
      "metadata": {
        "id": "AWolXonrHG3x"
      },
      "execution_count": null,
      "outputs": []
    },
    {
      "cell_type": "code",
      "metadata": {
        "colab": {
          "base_uri": "https://localhost:8080/"
        },
        "id": "BxcraaCdUu0W",
        "outputId": "de7b76a7-f824-4af8-efcc-e1854ec57785"
      },
      "source": [
        "train_data, test_data = datasets.IMDB.splits(txt, labels)"
      ],
      "execution_count": null,
      "outputs": [
        {
          "output_type": "stream",
          "name": "stdout",
          "text": [
            "downloading aclImdb_v1.tar.gz\n"
          ]
        },
        {
          "output_type": "stream",
          "name": "stderr",
          "text": [
            "aclImdb_v1.tar.gz: 100%|██████████| 84.1M/84.1M [00:08<00:00, 9.48MB/s]\n"
          ]
        }
      ]
    },
    {
      "cell_type": "code",
      "metadata": {
        "id": "ilJfvG4tUu2S"
      },
      "source": [
        "train_data, valid_data = train_data.split(random_state = random.seed(seed))"
      ],
      "execution_count": null,
      "outputs": []
    },
    {
      "cell_type": "code",
      "metadata": {
        "id": "NWJxtI6IUu4r",
        "colab": {
          "base_uri": "https://localhost:8080/"
        },
        "outputId": "e9dd4726-738d-4844-b854-ebc8d4561441"
      },
      "source": [
        "num_words = 25_000\n",
        "\n",
        "txt.build_vocab(train_data, \n",
        "                 max_size = num_words, \n",
        "                 vectors = \"glove.6B.100d\", \n",
        "                 unk_init = torch.Tensor.normal_)\n",
        "\n",
        "labels.build_vocab(train_data)"
      ],
      "execution_count": null,
      "outputs": [
        {
          "output_type": "stream",
          "name": "stderr",
          "text": [
            ".vector_cache/glove.6B.zip: 862MB [02:41, 5.35MB/s]                           \n",
            "100%|█████████▉| 399999/400000 [00:13<00:00, 28718.68it/s]\n"
          ]
        }
      ]
    },
    {
      "cell_type": "code",
      "metadata": {
        "id": "8GBxa-nhUu7z"
      },
      "source": [
        "btch_size = 64\n",
        "\n",
        "train_itr, valid_itr, test_itr = data.BucketIterator.splits(\n",
        "    (train_data, valid_data, test_data), \n",
        "    batch_size = btch_size,\n",
        "    sort_within_batch = True,\n",
        "    device = device)"
      ],
      "execution_count": null,
      "outputs": []
    },
    {
      "cell_type": "code",
      "metadata": {
        "id": "2FW6VELrUu9w"
      },
      "source": [
        "class RNN(nn.Module):\n",
        "    def __init__(self, word_limit, dimension_embedding, dimension_hidden, dimension_output, num_layers, \n",
        "                 bidirectional, dropout, pad_idx):\n",
        "        \n",
        "        super().__init__()\n",
        "        \n",
        "        self.embedding = nn.Embedding(word_limit, dimension_embedding, padding_idx=pad_idx)\n",
        "        \n",
        "        self.rnn = nn.LSTM(dimension_embedding, \n",
        "                           dimension_hidden, \n",
        "                           num_layers=num_layers, \n",
        "                           bidirectional=bidirectional, \n",
        "                           dropout=dropout)\n",
        "        \n",
        "        self.fc = nn.Linear(dimension_hidden * 2, dimension_output)\n",
        "        \n",
        "        self.dropout = nn.Dropout(dropout)\n",
        "        \n",
        "\n",
        "    def forward(self, text, len_txt):\n",
        "        \n",
        "        embedded = self.dropout(self.embedding(text))\n",
        "               \n",
        "\n",
        "        packed_embedded = nn.utils.rnn.pack_padded_sequence(embedded, len_txt.to('cpu'))\n",
        "        \n",
        "        packed_output, (hidden, cell) = self.rnn(packed_embedded)\n",
        "        \n",
        "        output, output_lengths = nn.utils.rnn.pad_packed_sequence(packed_output)\n",
        "\n",
        "        \n",
        "        hidden = self.dropout(torch.cat((hidden[-2,:,:], hidden[-1,:,:]), dim = 1))\n",
        "                            \n",
        "        return self.fc(hidden)"
      ],
      "execution_count": null,
      "outputs": []
    },
    {
      "cell_type": "code",
      "metadata": {
        "id": "0cfpV4fUUvAm"
      },
      "source": [
        "dimension_input = len(txt.vocab)\n",
        "dimension_embedding = 100\n",
        "dimension_hddn = 256\n",
        "dimension_out = 1\n",
        "layers = 2\n",
        "bidirectional = True\n",
        "droupout = 0.5\n",
        "idx_pad = txt.vocab.stoi[txt.pad_token]\n",
        "\n",
        "model = RNN(dimension_input, \n",
        "            dimension_embedding, \n",
        "            dimension_hddn, \n",
        "            dimension_out, \n",
        "            layers, \n",
        "            bidirectional, \n",
        "            droupout, \n",
        "            idx_pad)"
      ],
      "execution_count": null,
      "outputs": []
    },
    {
      "cell_type": "code",
      "metadata": {
        "id": "_jPpTvChUvCo",
        "colab": {
          "base_uri": "https://localhost:8080/"
        },
        "outputId": "04d365c4-9d22-4137-9ab4-444d0736f8f8"
      },
      "source": [
        "def count_parameters(model):\n",
        "    return sum(p.numel() for p in model.parameters() if p.requires_grad)\n",
        "\n",
        "print(f'Модель обладает {count_parameters(model):,} тренируемыми параметрами')"
      ],
      "execution_count": null,
      "outputs": [
        {
          "output_type": "stream",
          "name": "stdout",
          "text": [
            "Модель обладает 4,810,857 тренируемыми параметрами\n"
          ]
        }
      ]
    },
    {
      "cell_type": "code",
      "metadata": {
        "id": "2TonARjWUvEz",
        "colab": {
          "base_uri": "https://localhost:8080/"
        },
        "outputId": "55adb1b4-9167-4ee5-e5f0-54bff518d7c5"
      },
      "source": [
        "pretrained_embeddings = txt.vocab.vectors\n",
        "\n",
        "print(pretrained_embeddings.shape)"
      ],
      "execution_count": null,
      "outputs": [
        {
          "output_type": "stream",
          "name": "stdout",
          "text": [
            "torch.Size([25002, 100])\n"
          ]
        }
      ]
    },
    {
      "cell_type": "code",
      "metadata": {
        "id": "pR3JOGeLUvHC",
        "colab": {
          "base_uri": "https://localhost:8080/"
        },
        "outputId": "ba544f1e-ea1a-49df-aba3-b0d3da7a7348"
      },
      "source": [
        "model.embedding.weight.data.copy_(pretrained_embeddings)"
      ],
      "execution_count": null,
      "outputs": [
        {
          "output_type": "execute_result",
          "data": {
            "text/plain": [
              "tensor([[ 1.9269,  1.4873,  0.9007,  ...,  0.1233,  0.3499,  0.6173],\n",
              "        [ 0.7262,  0.0912, -0.3891,  ...,  0.0821,  0.4440, -0.7240],\n",
              "        [-0.0382, -0.2449,  0.7281,  ..., -0.1459,  0.8278,  0.2706],\n",
              "        ...,\n",
              "        [ 0.2735, -0.1130,  0.2871,  ..., -0.8155, -0.0639,  0.9330],\n",
              "        [-1.1777, -0.1115, -0.1409,  ...,  0.8815,  0.1093,  1.1222],\n",
              "        [-0.8087,  0.4473,  0.0443,  ..., -1.2134,  0.4822,  0.0481]])"
            ]
          },
          "metadata": {},
          "execution_count": 12
        }
      ]
    },
    {
      "cell_type": "code",
      "metadata": {
        "id": "mf7NFXmPUvKQ",
        "colab": {
          "base_uri": "https://localhost:8080/"
        },
        "outputId": "397aad6d-a553-4505-b380-92f69a199b10"
      },
      "source": [
        "unique_id = txt.vocab.stoi[txt.unk_token]\n",
        "\n",
        "model.embedding.weight.data[unique_id] = torch.zeros(dimension_embedding)\n",
        "model.embedding.weight.data[idx_pad] = torch.zeros(dimension_embedding)\n",
        "\n",
        "print(model.embedding.weight.data)"
      ],
      "execution_count": null,
      "outputs": [
        {
          "output_type": "stream",
          "name": "stdout",
          "text": [
            "tensor([[ 0.0000,  0.0000,  0.0000,  ...,  0.0000,  0.0000,  0.0000],\n",
            "        [ 0.0000,  0.0000,  0.0000,  ...,  0.0000,  0.0000,  0.0000],\n",
            "        [-0.0382, -0.2449,  0.7281,  ..., -0.1459,  0.8278,  0.2706],\n",
            "        ...,\n",
            "        [ 0.2735, -0.1130,  0.2871,  ..., -0.8155, -0.0639,  0.9330],\n",
            "        [-1.1777, -0.1115, -0.1409,  ...,  0.8815,  0.1093,  1.1222],\n",
            "        [-0.8087,  0.4473,  0.0443,  ..., -1.2134,  0.4822,  0.0481]])\n"
          ]
        }
      ]
    },
    {
      "cell_type": "code",
      "metadata": {
        "id": "YjNuTfx6UvMA"
      },
      "source": [
        "optimizer = optim.Adam(model.parameters())"
      ],
      "execution_count": null,
      "outputs": []
    },
    {
      "cell_type": "code",
      "metadata": {
        "id": "1UUb9NFyfuFC"
      },
      "source": [
        "criterion = nn.BCEWithLogitsLoss()\n",
        "\n",
        "model = model.to(device)\n",
        "criterion = criterion.to(device)"
      ],
      "execution_count": null,
      "outputs": []
    },
    {
      "cell_type": "code",
      "metadata": {
        "id": "hXGoFUYwfuHK"
      },
      "source": [
        "def bin_acc(preds, y):\n",
        "   \n",
        "    predictions = torch.round(torch.sigmoid(preds))\n",
        "    correct = (predictions == y).float() \n",
        "    acc = correct.sum() / len(correct)\n",
        "    return acc"
      ],
      "execution_count": null,
      "outputs": []
    },
    {
      "cell_type": "code",
      "metadata": {
        "id": "8CRdK5PNfuLK"
      },
      "source": [
        "def train(model, itr, optimizer, criterion):\n",
        "    \n",
        "    epoch_loss = 0\n",
        "    epoch_acc = 0\n",
        "    \n",
        "    model.train()\n",
        "    \n",
        "    for i in itr:\n",
        "        \n",
        "        optimizer.zero_grad()\n",
        "        \n",
        "        text, len_txt = i.text\n",
        "        \n",
        "        predictions = model(text, len_txt).squeeze(1)\n",
        "        \n",
        "        loss = criterion(predictions, i.label)\n",
        "        \n",
        "        acc = bin_acc(predictions, i.label)\n",
        "        \n",
        "        loss.backward()\n",
        "        \n",
        "        optimizer.step()\n",
        "        \n",
        "        epoch_loss += loss.item()\n",
        "        epoch_acc += acc.item()\n",
        "        \n",
        "    return epoch_loss / len(itr), epoch_acc / len(itr)"
      ],
      "execution_count": null,
      "outputs": []
    },
    {
      "cell_type": "code",
      "metadata": {
        "id": "2REmYimCUvN_"
      },
      "source": [
        "def evaluate(model, itr, criterion):\n",
        "    \n",
        "    epoch_loss = 0\n",
        "    epoch_acc = 0\n",
        "    \n",
        "    model.eval()\n",
        "    \n",
        "    with torch.no_grad():\n",
        "    \n",
        "        for i in itr:\n",
        "\n",
        "            text, len_txt = i.text\n",
        "            \n",
        "            predictions = model(text, len_txt).squeeze(1)\n",
        "            \n",
        "            loss = criterion(predictions, i.label)\n",
        "            \n",
        "            acc = bin_acc(predictions, i.label)\n",
        "\n",
        "            epoch_loss += loss.item()\n",
        "            epoch_acc += acc.item()\n",
        "        \n",
        "    return epoch_loss / len(itr), epoch_acc / len(itr)"
      ],
      "execution_count": null,
      "outputs": []
    },
    {
      "cell_type": "code",
      "metadata": {
        "id": "r0B_0briUvP_"
      },
      "source": [
        "def epoch_time(start_time, end_time):\n",
        "    used_time = end_time - start_time\n",
        "    used_mins = int(used_time / 60)\n",
        "    used_secs = int(used_time - (used_mins * 60))\n",
        "    return used_mins, used_secs"
      ],
      "execution_count": null,
      "outputs": []
    },
    {
      "cell_type": "code",
      "metadata": {
        "id": "L2zpx4bBUvSv",
        "colab": {
          "base_uri": "https://localhost:8080/"
        },
        "outputId": "f3904c12-18c3-4e74-9d64-2b6afb542361"
      },
      "source": [
        "num_epochs = 5\n",
        "\n",
        "best_valid_loss = float('inf')\n",
        "\n",
        "for epoch in range(num_epochs):\n",
        "\n",
        "    start_time = time.time()\n",
        "    \n",
        "    train_loss, train_acc = train(model, train_itr, optimizer, criterion)\n",
        "    valid_loss, valid_acc = evaluate(model, valid_itr, criterion)\n",
        "    \n",
        "    end_time = time.time()\n",
        "\n",
        "    epoch_mins, epoch_secs = epoch_time(start_time, end_time)\n",
        "    \n",
        "    if valid_loss < best_valid_loss:\n",
        "        best_valid_loss = valid_loss\n",
        "        torch.save(model.state_dict(), 'tut2-model.pt')\n",
        "    \n",
        "    print(f'Эпоха: {epoch+1:02} | Время на эпоху: {epoch_mins}m {epoch_secs}s')\n",
        "    print(f'\\tТренировочные потери: {train_loss:.3f} | Тренировочная точность: {train_acc*100:.2f}%')\n",
        "    print(f'\\t Валидационные потери: {valid_loss:.3f} |  Валидационная точность: {valid_acc*100:.2f}%')"
      ],
      "execution_count": null,
      "outputs": [
        {
          "output_type": "stream",
          "name": "stdout",
          "text": [
            "Эпоха: 01 | Время на эпоху: 0m 35s\n",
            "\tТренировочные потери: 0.649 | Тренировочная точность: 61.34%\n",
            "\t Валидационные потери: 0.583 |  Валидационная точность: 72.39%\n",
            "Эпоха: 02 | Время на эпоху: 0m 36s\n",
            "\tТренировочные потери: 0.561 | Тренировочная точность: 71.81%\n",
            "\t Валидационные потери: 0.460 |  Валидационная точность: 79.26%\n",
            "Эпоха: 03 | Время на эпоху: 0m 38s\n",
            "\tТренировочные потери: 0.549 | Тренировочная точность: 71.97%\n",
            "\t Валидационные потери: 0.358 |  Валидационная точность: 84.73%\n",
            "Эпоха: 04 | Время на эпоху: 0m 38s\n",
            "\tТренировочные потери: 0.432 | Тренировочная точность: 80.96%\n",
            "\t Валидационные потери: 0.353 |  Валидационная точность: 85.52%\n",
            "Эпоха: 05 | Время на эпоху: 0m 38s\n",
            "\tТренировочные потери: 0.313 | Тренировочная точность: 87.03%\n",
            "\t Валидационные потери: 0.299 |  Валидационная точность: 87.52%\n"
          ]
        }
      ]
    },
    {
      "cell_type": "code",
      "metadata": {
        "id": "yshHY_M9UvVA",
        "colab": {
          "base_uri": "https://localhost:8080/"
        },
        "outputId": "aa52847b-bbad-439f-b98c-44ad80242c14"
      },
      "source": [
        "model.load_state_dict(torch.load('tut2-model.pt'))\n",
        "\n",
        "test_loss, test_acc = evaluate(model, test_itr, criterion)\n",
        "\n",
        "print(f'Тестовые потери: {test_loss:.3f} | Тестовая точность: {test_acc*100:.2f}%')"
      ],
      "execution_count": null,
      "outputs": [
        {
          "output_type": "stream",
          "name": "stdout",
          "text": [
            "Тестовые потери: 0.301 | Тестовая точность: 87.42%\n"
          ]
        }
      ]
    },
    {
      "cell_type": "code",
      "metadata": {
        "id": "XxOZnONkUvXM"
      },
      "source": [
        "nlp = spacy.load('en_core_web_sm')\n",
        "\n",
        "def pred(model, sentence):\n",
        "    model.eval()\n",
        "    tokenized = [tok.text for tok in nlp.tokenizer(sentence)]\n",
        "    indexed = [txt.vocab.stoi[t] for t in tokenized]\n",
        "    length = [len(indexed)]\n",
        "    tensor = torch.LongTensor(indexed).to(device)\n",
        "    tensor = tensor.unsqueeze(1)\n",
        "    length_tensor = torch.LongTensor(length)\n",
        "    prediction = torch.sigmoid(model(tensor, length_tensor))\n",
        "    return prediction.item()"
      ],
      "execution_count": null,
      "outputs": []
    },
    {
      "cell_type": "code",
      "metadata": {
        "id": "xqWqP_-ZSZgK"
      },
      "source": [
        "sent = [\"Положительный\", \"Нейтральный\", \"Отрицательный\"]\n",
        "def print_sent(x):\n",
        "  if (x < 0.3): print(sent[0])\n",
        "  elif (x > 0.3 and x < 0.7): print(sent[1])\n",
        "  else: print(sent[2])"
      ],
      "execution_count": null,
      "outputs": []
    },
    {
      "cell_type": "code",
      "metadata": {
        "id": "Cnunsr_KUvY_",
        "colab": {
          "base_uri": "https://localhost:8080/"
        },
        "outputId": "97116833-8475-4063-ab0a-d0db58de0f81"
      },
      "source": [
        "print_sent(pred(model, \"This film was average\"))\n",
        "print_sent(pred(model, \"This film is horrible\"))\n",
        "print_sent(pred(model, \"This film was great\"))\n",
        "print_sent(pred(model, \"This was the best movie i have seen in a while. The cast was great and the script was awesome, and the direction just blew my mind\"))"
      ],
      "execution_count": null,
      "outputs": [
        {
          "output_type": "stream",
          "name": "stdout",
          "text": [
            "Нейтральный\n",
            "Отрицательный\n",
            "Положительный\n",
            "Положительный\n"
          ]
        }
      ]
    }
  ]
}