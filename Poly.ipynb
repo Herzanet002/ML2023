{
  "cells": [
    {
      "cell_type": "markdown",
      "metadata": {
        "id": "view-in-github",
        "colab_type": "text"
      },
      "source": [
        "<a href=\"https://colab.research.google.com/github/Herzanet002/ML2023/blob/main/Poly.ipynb\" target=\"_parent\"><img src=\"https://colab.research.google.com/assets/colab-badge.svg\" alt=\"Open In Colab\"/></a>"
      ]
    },
    {
      "cell_type": "markdown",
      "source": [
        "# Полиномиальная регрессия"
      ],
      "metadata": {
        "id": "VhNOrfdxYv2I"
      }
    },
    {
      "cell_type": "markdown",
      "source": [
        "Формируем обучающую выборку.\n",
        "\n",
        "X - случайная величина из равномерного распределения [-1;2]\n",
        "\n",
        "E - случайная величина (аддитивный шум) из нормального распределения (0;1.5)\n",
        "\n",
        "Y - зависимая случйаная величина."
      ],
      "metadata": {
        "id": "VsqS0SREY1CI"
      }
    },
    {
      "cell_type": "code",
      "execution_count": 274,
      "metadata": {
        "id": "grNwWFzAbOK8"
      },
      "outputs": [],
      "source": [
        "import numpy as np\n",
        "\n",
        "\n",
        "def f(x):\n",
        "  return x ** 9 - 4 * x ** 5 + 3 * x - 2\n",
        "\n",
        "N = 100\n",
        "X = np.random.uniform(-1, 2, N)\n",
        "E = np.random.normal(0, 1.5, N)\n",
        "Y = np.vectorize(f)(X) + E"
      ]
    },
    {
      "cell_type": "markdown",
      "source": [
        "Рисуем график исходной функции и выборки. "
      ],
      "metadata": {
        "id": "UYnBS6RBaOij"
      }
    },
    {
      "cell_type": "code",
      "execution_count": 275,
      "metadata": {
        "colab": {
          "base_uri": "https://localhost:8080/",
          "height": 430
        },
        "id": "EA1NKiKRemYT",
        "outputId": "b8ab50e8-303b-4855-d4de-a3430857d038"
      },
      "outputs": [
        {
          "output_type": "display_data",
          "data": {
            "text/plain": [
              "<Figure size 640x480 with 1 Axes>"
            ],
            "image/png": "[encoded data removed]"
          },
          "metadata": {}
        }
      ],
      "source": [
        "M = 100\n",
        "xs = np.linspace(-1, 2, M)\n",
        "ys = np.vectorize(f)(xs)\n",
        "\n",
        "import matplotlib.pyplot as plt\n",
        "plt.plot(X, Y, 'bo', xs, ys, 'k')\n",
        "plt.show()"
      ]
    },
    {
      "cell_type": "markdown",
      "source": [
        "Формируем модель - полиномиальная функция степени ORDER.\n",
        "\n",
        "w - параметры модели, требующие обучения."
      ],
      "metadata": {
        "id": "ezqF6FiuaVdT"
      }
    },
    {
      "cell_type": "code",
      "execution_count": 276,
      "metadata": {
        "id": "OJZdWWSFbtEl"
      },
      "outputs": [],
      "source": [
        "import torch\n",
        "\n",
        "ORDER = 10\n",
        "w = torch.rand((1, ORDER+1), requires_grad = True, dtype=torch.float64)\n",
        "\n",
        "def model(x):\n",
        "  phi = torch.stack([x ** i for i in range(0, ORDER + 1)])\n",
        "  return torch.matmul(w, phi)"
      ]
    },
    {
      "cell_type": "markdown",
      "source": [
        "Реализуем функцю квадратичную функцию потерь."
      ],
      "metadata": {
        "id": "1n0I4wrsaf-r"
      }
    },
    {
      "cell_type": "code",
      "source": [
        "def loss(y_predicted, y_actual):\n",
        "  LAMBDA = 0.01 # коэффициент регуляризации\n",
        "  return torch.mean(torch.pow(y_predicted - y_actual, 2)) + LAMBDA * (torch.sum(torch.pow(w, 2))) "
      ],
      "metadata": {
        "id": "DM7awVihTEoC"
      },
      "execution_count": 277,
      "outputs": []
    },
    {
      "cell_type": "markdown",
      "source": [
        "Обучаем наши параметры. \n",
        "\n",
        "EPOCH - количество итераций обучения.\n",
        "\n",
        "ALPHA - скорость обучения."
      ],
      "metadata": {
        "id": "YvIiLvlSaold"
      }
    },
    {
      "cell_type": "code",
      "execution_count": 278,
      "metadata": {
        "id": "Y3s7nVbqxpYj",
        "colab": {
          "base_uri": "https://localhost:8080/"
        },
        "outputId": "c1f4f95b-aae6-4b79-9d41-a12cd180d5cc"
      },
      "outputs": [
        {
          "output_type": "stream",
          "name": "stdout",
          "text": [
            "0 6.671103673535258\n",
            "10 5.722947507802043\n",
            "20 4.8672889301846505\n",
            "30 4.093844002703633\n",
            "40 3.395470166249277\n",
            "50 2.767910717905423\n",
            "60 2.2087110594611192\n",
            "70 1.7163707394771803\n",
            "80 1.2897983264249697\n",
            "90 0.9279824773038633\n",
            "100 0.6297744585731351\n",
            "110 0.3936948950928037\n",
            "120 0.21768565067647722\n",
            "130 0.09870716629679271\n",
            "140 0.03202972116182547\n",
            "150 0.010103107881650098\n",
            "160 0.021934993435844596\n",
            "170 0.05805025253200459\n",
            "180 0.12197874865165545\n",
            "190 0.22530211371134753\n",
            "200 0.37324907211372366\n",
            "210 0.5653478983359488\n",
            "220 0.7997011512060418\n",
            "230 1.0744957073682881\n",
            "240 1.3881627468568094\n",
            "250 1.7392426865075423\n",
            "260 2.12625703362859\n",
            "270 2.54762538627956\n",
            "280 3.0016122089422024\n",
            "290 3.4862875748804503\n"
          ]
        }
      ],
      "source": [
        "EPOCH = 300\n",
        "ALPHA = 0.0001\n",
        "optimizer = torch.optim.Adam([w], lr=ALPHA)\n",
        "\n",
        "for e in range(EPOCH):\n",
        "    for i in range(N):\n",
        "      x, y = torch.tensor(X[i]), torch.tensor(Y[i])\n",
        "      y_predict = model(x)\n",
        "      loss_tensor = loss(y_predict, y)\n",
        "      optimizer.zero_grad()\n",
        "      loss_tensor.backward()\n",
        "      optimizer.step()\n",
        "    if e % 10 == 0:\n",
        "      print(e, loss_tensor.detach().numpy())"
      ]
    },
    {
      "cell_type": "markdown",
      "source": [
        "Выведим значения параметров модели."
      ],
      "metadata": {
        "id": "VM4FP-gea0L4"
      }
    },
    {
      "cell_type": "code",
      "execution_count": 279,
      "metadata": {
        "id": "bWzoKDAiwFCY",
        "colab": {
          "base_uri": "https://localhost:8080/"
        },
        "outputId": "875beaed-9477-42db-e6cf-77c1858ac053"
      },
      "outputs": [
        {
          "output_type": "execute_result",
          "data": {
            "text/plain": [
              "tensor([[-0.4808, -0.7710, -0.1391, -0.3783, -0.0347, -0.2131, -0.3813,  0.4765,\n",
              "         -0.2748,  0.4420,  0.1933]], dtype=torch.float64, requires_grad=True)"
            ]
          },
          "metadata": {},
          "execution_count": 279
        }
      ],
      "source": [
        "w"
      ]
    },
    {
      "cell_type": "markdown",
      "source": [
        "Нарисуем графики:\n",
        "\n",
        "\n",
        "1.   Черный - истинная функция.\n",
        "2.   Синий - исходная выборка.\n",
        "3.   Красный - обученная модель.\n",
        "\n"
      ],
      "metadata": {
        "id": "0eU3n9qKbB1I"
      }
    },
    {
      "cell_type": "code",
      "source": [
        "xs_tensor = torch.tensor(xs)\n",
        "with torch.no_grad():\n",
        "  y_pred = model(xs_tensor).detach().numpy()[0]\n",
        "\n",
        "plt.plot(X, Y, 'bo', xs, ys, 'k', xs, y_pred, 'r--')\n",
        "plt.show()"
      ],
      "metadata": {
        "colab": {
          "base_uri": "https://localhost:8080/",
          "height": 430
        },
        "id": "Jrb1vHDJTr_4",
        "outputId": "b0749dc5-a726-4219-fdcb-39884015f089"
      },
      "execution_count": 280,
      "outputs": [
        {
          "output_type": "display_data",
          "data": {
            "text/plain": [
              "<Figure size 640x480 with 1 Axes>"
            ],
            "image/png": "[encoded data removed]"
          },
          "metadata": {}
        }
      ]
    }
  ],
  "metadata": {
    "colab": {
      "provenance": [],
      "include_colab_link": true
    },
    "kernelspec": {
      "display_name": "Python 3",
      "name": "python3"
    },
    "language_info": {
      "name": "python"
    }
  },
  "nbformat": 4,
  "nbformat_minor": 0
}