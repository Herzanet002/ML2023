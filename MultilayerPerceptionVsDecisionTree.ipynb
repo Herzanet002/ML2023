{
  "cells": [
    {
      "cell_type": "markdown",
      "metadata": {
        "id": "view-in-github",
        "colab_type": "text"
      },
      "source": [
        "<a href=\"https://colab.research.google.com/github/Herzanet002/ML2023/blob/main/MultilayerPerceptionVsDecisionTree.ipynb\" target=\"_parent\"><img src=\"https://colab.research.google.com/assets/colab-badge.svg\" alt=\"Open In Colab\"/></a>"
      ]
    },
    {
      "cell_type": "code",
      "execution_count": 591,
      "metadata": {
        "id": "If7z-xCrw_VW"
      },
      "outputs": [],
      "source": [
        "import pandas as pandas\n",
        "from sklearn.tree import DecisionTreeClassifier\n",
        "from sklearn.model_selection import train_test_split\n",
        "from sklearn import metrics"
      ]
    },
    {
      "cell_type": "code",
      "execution_count": 592,
      "metadata": {
        "id": "EkKMIuFPxJbM",
        "colab": {
          "base_uri": "https://localhost:8080/",
          "height": 363
        },
        "outputId": "9cf96640-a906-4c8f-a608-2ba1029a8b69"
      },
      "outputs": [
        {
          "output_type": "execute_result",
          "data": {
            "text/plain": [
              "   Temperature[C]  Humidity[%]  TVOC[ppb]  eCO2[ppm]  Raw H2  Raw Ethanol  \\\n",
              "0          20.000        57.36          0        400   12306        18520   \n",
              "1          20.015        56.67          0        400   12345        18651   \n",
              "2          20.029        55.96          0        400   12374        18764   \n",
              "3          20.044        55.28          0        400   12390        18849   \n",
              "4          20.059        54.69          0        400   12403        18921   \n",
              "5          20.073        54.12          0        400   12419        18998   \n",
              "6          20.088        53.61          0        400   12432        19058   \n",
              "7          20.103        53.20          0        400   12439        19114   \n",
              "8          20.117        52.81          0        400   12448        19155   \n",
              "9          20.132        52.46          0        400   12453        19195   \n",
              "\n",
              "   Pressure[hPa]  PM1.0  PM2.5  NC0.5  NC1.0  NC2.5  CNT  Fire Alarm  \n",
              "0        939.735    0.0   0.00    0.0  0.000   0.00    0           0  \n",
              "1        939.744    0.0   0.00    0.0  0.000   0.00    1           0  \n",
              "2        939.738    0.0   0.00    0.0  0.000   0.00    2           0  \n",
              "3        939.736    0.0   0.00    0.0  0.000   0.00    3           0  \n",
              "4        939.744    0.0   0.00    0.0  0.000   0.00    4           0  \n",
              "5        939.725    0.0   0.00    0.0  0.000   0.00    5           0  \n",
              "6        939.738    0.0   0.00    0.0  0.000   0.00    6           0  \n",
              "7        939.758    0.0   0.00    0.0  0.000   0.00    7           0  \n",
              "8        939.758    0.0   0.00    0.0  0.000   0.00    8           0  \n",
              "9        939.756    0.9   3.78    0.0  4.369   2.78    9           0  "
            ],
            "text/html": [
              "\n",
              "  <div id=\"df-17758223-0d5a-4c72-8b01-6d7f9b2d9269\">\n",
              "    <div class=\"colab-df-container\">\n",
              "      <div>\n",
              "<style scoped>\n",
              "    .dataframe tbody tr th:only-of-type {\n",
              "        vertical-align: middle;\n",
              "    }\n",
              "\n",
              "    .dataframe tbody tr th {\n",
              "        vertical-align: top;\n",
              "    }\n",
              "\n",
              "    .dataframe thead th {\n",
              "        text-align: right;\n",
              "    }\n",
              "</style>\n",
              "<table border=\"1\" class=\"dataframe\">\n",
              "  <thead>\n",
              "    <tr style=\"text-align: right;\">\n",
              "      <th></th>\n",
              "      <th>Temperature[C]</th>\n",
              "      <th>Humidity[%]</th>\n",
              "      <th>TVOC[ppb]</th>\n",
              "      <th>eCO2[ppm]</th>\n",
              "      <th>Raw H2</th>\n",
              "      <th>Raw Ethanol</th>\n",
              "      <th>Pressure[hPa]</th>\n",
              "      <th>PM1.0</th>\n",
              "      <th>PM2.5</th>\n",
              "      <th>NC0.5</th>\n",
              "      <th>NC1.0</th>\n",
              "      <th>NC2.5</th>\n",
              "      <th>CNT</th>\n",
              "      <th>Fire Alarm</th>\n",
              "    </tr>\n",
              "  </thead>\n",
              "  <tbody>\n",
              "    <tr>\n",
              "      <th>0</th>\n",
              "      <td>20.000</td>\n",
              "      <td>57.36</td>\n",
              "      <td>0</td>\n",
              "      <td>400</td>\n",
              "      <td>12306</td>\n",
              "      <td>18520</td>\n",
              "      <td>939.735</td>\n",
              "      <td>0.0</td>\n",
              "      <td>0.00</td>\n",
              "      <td>0.0</td>\n",
              "      <td>0.000</td>\n",
              "      <td>0.00</td>\n",
              "      <td>0</td>\n",
              "      <td>0</td>\n",
              "    </tr>\n",
              "    <tr>\n",
              "      <th>1</th>\n",
              "      <td>20.015</td>\n",
              "      <td>56.67</td>\n",
              "      <td>0</td>\n",
              "      <td>400</td>\n",
              "      <td>12345</td>\n",
              "      <td>18651</td>\n",
              "      <td>939.744</td>\n",
              "      <td>0.0</td>\n",
              "      <td>0.00</td>\n",
              "      <td>0.0</td>\n",
              "      <td>0.000</td>\n",
              "      <td>0.00</td>\n",
              "      <td>1</td>\n",
              "      <td>0</td>\n",
              "    </tr>\n",
              "    <tr>\n",
              "      <th>2</th>\n",
              "      <td>20.029</td>\n",
              "      <td>55.96</td>\n",
              "      <td>0</td>\n",
              "      <td>400</td>\n",
              "      <td>12374</td>\n",
              "      <td>18764</td>\n",
              "      <td>939.738</td>\n",
              "      <td>0.0</td>\n",
              "      <td>0.00</td>\n",
              "      <td>0.0</td>\n",
              "      <td>0.000</td>\n",
              "      <td>0.00</td>\n",
              "      <td>2</td>\n",
              "      <td>0</td>\n",
              "    </tr>\n",
              "    <tr>\n",
              "      <th>3</th>\n",
              "      <td>20.044</td>\n",
              "      <td>55.28</td>\n",
              "      <td>0</td>\n",
              "      <td>400</td>\n",
              "      <td>12390</td>\n",
              "      <td>18849</td>\n",
              "      <td>939.736</td>\n",
              "      <td>0.0</td>\n",
              "      <td>0.00</td>\n",
              "      <td>0.0</td>\n",
              "      <td>0.000</td>\n",
              "      <td>0.00</td>\n",
              "      <td>3</td>\n",
              "      <td>0</td>\n",
              "    </tr>\n",
              "    <tr>\n",
              "      <th>4</th>\n",
              "      <td>20.059</td>\n",
              "      <td>54.69</td>\n",
              "      <td>0</td>\n",
              "      <td>400</td>\n",
              "      <td>12403</td>\n",
              "      <td>18921</td>\n",
              "      <td>939.744</td>\n",
              "      <td>0.0</td>\n",
              "      <td>0.00</td>\n",
              "      <td>0.0</td>\n",
              "      <td>0.000</td>\n",
              "      <td>0.00</td>\n",
              "      <td>4</td>\n",
              "      <td>0</td>\n",
              "    </tr>\n",
              "    <tr>\n",
              "      <th>5</th>\n",
              "      <td>20.073</td>\n",
              "      <td>54.12</td>\n",
              "      <td>0</td>\n",
              "      <td>400</td>\n",
              "      <td>12419</td>\n",
              "      <td>18998</td>\n",
              "      <td>939.725</td>\n",
              "      <td>0.0</td>\n",
              "      <td>0.00</td>\n",
              "      <td>0.0</td>\n",
              "      <td>0.000</td>\n",
              "      <td>0.00</td>\n",
              "      <td>5</td>\n",
              "      <td>0</td>\n",
              "    </tr>\n",
              "    <tr>\n",
              "      <th>6</th>\n",
              "      <td>20.088</td>\n",
              "      <td>53.61</td>\n",
              "      <td>0</td>\n",
              "      <td>400</td>\n",
              "      <td>12432</td>\n",
              "      <td>19058</td>\n",
              "      <td>939.738</td>\n",
              "      <td>0.0</td>\n",
              "      <td>0.00</td>\n",
              "      <td>0.0</td>\n",
              "      <td>0.000</td>\n",
              "      <td>0.00</td>\n",
              "      <td>6</td>\n",
              "      <td>0</td>\n",
              "    </tr>\n",
              "    <tr>\n",
              "      <th>7</th>\n",
              "      <td>20.103</td>\n",
              "      <td>53.20</td>\n",
              "      <td>0</td>\n",
              "      <td>400</td>\n",
              "      <td>12439</td>\n",
              "      <td>19114</td>\n",
              "      <td>939.758</td>\n",
              "      <td>0.0</td>\n",
              "      <td>0.00</td>\n",
              "      <td>0.0</td>\n",
              "      <td>0.000</td>\n",
              "      <td>0.00</td>\n",
              "      <td>7</td>\n",
              "      <td>0</td>\n",
              "    </tr>\n",
              "    <tr>\n",
              "      <th>8</th>\n",
              "      <td>20.117</td>\n",
              "      <td>52.81</td>\n",
              "      <td>0</td>\n",
              "      <td>400</td>\n",
              "      <td>12448</td>\n",
              "      <td>19155</td>\n",
              "      <td>939.758</td>\n",
              "      <td>0.0</td>\n",
              "      <td>0.00</td>\n",
              "      <td>0.0</td>\n",
              "      <td>0.000</td>\n",
              "      <td>0.00</td>\n",
              "      <td>8</td>\n",
              "      <td>0</td>\n",
              "    </tr>\n",
              "    <tr>\n",
              "      <th>9</th>\n",
              "      <td>20.132</td>\n",
              "      <td>52.46</td>\n",
              "      <td>0</td>\n",
              "      <td>400</td>\n",
              "      <td>12453</td>\n",
              "      <td>19195</td>\n",
              "      <td>939.756</td>\n",
              "      <td>0.9</td>\n",
              "      <td>3.78</td>\n",
              "      <td>0.0</td>\n",
              "      <td>4.369</td>\n",
              "      <td>2.78</td>\n",
              "      <td>9</td>\n",
              "      <td>0</td>\n",
              "    </tr>\n",
              "  </tbody>\n",
              "</table>\n",
              "</div>\n",
              "      <button class=\"colab-df-convert\" onclick=\"convertToInteractive('df-17758223-0d5a-4c72-8b01-6d7f9b2d9269')\"\n",
              "              title=\"Convert this dataframe to an interactive table.\"\n",
              "              style=\"display:none;\">\n",
              "        \n",
              "  <svg xmlns=\"http://www.w3.org/2000/svg\" height=\"24px\"viewBox=\"0 0 24 24\"\n",
              "       width=\"24px\">\n",
              "    <path d=\"M0 0h24v24H0V0z\" fill=\"none\"/>\n",
              "    <path d=\"M18.56 5.44l.94 2.06.94-2.06 2.06-.94-2.06-.94-.94-2.06-.94 2.06-2.06.94zm-11 1L8.5 8.5l.94-2.06 2.06-.94-2.06-.94L8.5 2.5l-.94 2.06-2.06.94zm10 10l.94 2.06.94-2.06 2.06-.94-2.06-.94-.94-2.06-.94 2.06-2.06.94z\"/><path d=\"M17.41 7.96l-1.37-1.37c-.4-.4-.92-.59-1.43-.59-.52 0-1.04.2-1.43.59L10.3 9.45l-7.72 7.72c-.78.78-.78 2.05 0 2.83L4 21.41c.39.39.9.59 1.41.59.51 0 1.02-.2 1.41-.59l7.78-7.78 2.81-2.81c.8-.78.8-2.07 0-2.86zM5.41 20L4 18.59l7.72-7.72 1.47 1.35L5.41 20z\"/>\n",
              "  </svg>\n",
              "      </button>\n",
              "      \n",
              "  <style>\n",
              "    .colab-df-container {\n",
              "      display:flex;\n",
              "      flex-wrap:wrap;\n",
              "      gap: 12px;\n",
              "    }\n",
              "\n",
              "    .colab-df-convert {\n",
              "      background-color: #E8F0FE;\n",
              "      border: none;\n",
              "      border-radius: 50%;\n",
              "      cursor: pointer;\n",
              "      display: none;\n",
              "      fill: #1967D2;\n",
              "      height: 32px;\n",
              "      padding: 0 0 0 0;\n",
              "      width: 32px;\n",
              "    }\n",
              "\n",
              "    .colab-df-convert:hover {\n",
              "      background-color: #E2EBFA;\n",
              "      box-shadow: 0px 1px 2px rgba(60, 64, 67, 0.3), 0px 1px 3px 1px rgba(60, 64, 67, 0.15);\n",
              "      fill: #174EA6;\n",
              "    }\n",
              "\n",
              "    [theme=dark] .colab-df-convert {\n",
              "      background-color: #3B4455;\n",
              "      fill: #D2E3FC;\n",
              "    }\n",
              "\n",
              "    [theme=dark] .colab-df-convert:hover {\n",
              "      background-color: #434B5C;\n",
              "      box-shadow: 0px 1px 3px 1px rgba(0, 0, 0, 0.15);\n",
              "      filter: drop-shadow(0px 1px 2px rgba(0, 0, 0, 0.3));\n",
              "      fill: #FFFFFF;\n",
              "    }\n",
              "  </style>\n",
              "\n",
              "      <script>\n",
              "        const buttonEl =\n",
              "          document.querySelector('#df-17758223-0d5a-4c72-8b01-6d7f9b2d9269 button.colab-df-convert');\n",
              "        buttonEl.style.display =\n",
              "          google.colab.kernel.accessAllowed ? 'block' : 'none';\n",
              "\n",
              "        async function convertToInteractive(key) {\n",
              "          const element = document.querySelector('#df-17758223-0d5a-4c72-8b01-6d7f9b2d9269');\n",
              "          const dataTable =\n",
              "            await google.colab.kernel.invokeFunction('convertToInteractive',\n",
              "                                                     [key], {});\n",
              "          if (!dataTable) return;\n",
              "\n",
              "          const docLinkHtml = 'Like what you see? Visit the ' +\n",
              "            '<a target=\"_blank\" href=https://colab.research.google.com/notebooks/data_table.ipynb>data table notebook</a>'\n",
              "            + ' to learn more about interactive tables.';\n",
              "          element.innerHTML = '';\n",
              "          dataTable['output_type'] = 'display_data';\n",
              "          await google.colab.output.renderOutput(dataTable, element);\n",
              "          const docLink = document.createElement('div');\n",
              "          docLink.innerHTML = docLinkHtml;\n",
              "          element.appendChild(docLink);\n",
              "        }\n",
              "      </script>\n",
              "    </div>\n",
              "  </div>\n",
              "  "
            ]
          },
          "metadata": {},
          "execution_count": 592
        }
      ],
      "source": [
        "dataset = pandas.read_csv(\"/content/sample_data/smoke_detection_iot.csv\")\n",
        "dataset.drop(['Unnamed: 0', 'UTC'], axis=1, inplace=True)\n",
        "dataset.head(10)"
      ]
    },
    {
      "cell_type": "code",
      "execution_count": 593,
      "metadata": {
        "id": "8oge-tjQ_rEe",
        "colab": {
          "base_uri": "https://localhost:8080/"
        },
        "outputId": "1ca39f53-5fbc-4d9d-8208-cb2f1fa44995"
      },
      "outputs": [
        {
          "output_type": "execute_result",
          "data": {
            "text/plain": [
              "1    44757\n",
              "0    17873\n",
              "Name: Fire Alarm, dtype: int64"
            ]
          },
          "metadata": {},
          "execution_count": 593
        }
      ],
      "source": [
        "dataset['Fire Alarm'].value_counts()"
      ]
    },
    {
      "cell_type": "code",
      "execution_count": 594,
      "metadata": {
        "id": "1WlHTAlw3_W6",
        "colab": {
          "base_uri": "https://localhost:8080/",
          "height": 423
        },
        "outputId": "c290a1a3-0734-4bb8-981b-99a4ef1f4985"
      },
      "outputs": [
        {
          "output_type": "execute_result",
          "data": {
            "text/plain": [
              "       Temperature[C]  Humidity[%]  TVOC[ppb]  eCO2[ppm]  Raw H2  Raw Ethanol  \\\n",
              "0              20.000        57.36          0        400   12306        18520   \n",
              "1              20.015        56.67          0        400   12345        18651   \n",
              "2              20.029        55.96          0        400   12374        18764   \n",
              "3              20.044        55.28          0        400   12390        18849   \n",
              "4              20.059        54.69          0        400   12403        18921   \n",
              "...               ...          ...        ...        ...     ...          ...   \n",
              "62625          18.438        15.79        625        400   13723        20569   \n",
              "62626          18.653        15.87        612        400   13731        20588   \n",
              "62627          18.867        15.84        627        400   13725        20582   \n",
              "62628          19.083        16.04        638        400   13712        20566   \n",
              "62629          19.299        16.52        643        400   13696        20543   \n",
              "\n",
              "       Pressure[hPa]  PM1.0  PM2.5  NC0.5  NC1.0  NC2.5   CNT  \n",
              "0            939.735   0.00   0.00   0.00  0.000  0.000     0  \n",
              "1            939.744   0.00   0.00   0.00  0.000  0.000     1  \n",
              "2            939.738   0.00   0.00   0.00  0.000  0.000     2  \n",
              "3            939.736   0.00   0.00   0.00  0.000  0.000     3  \n",
              "4            939.744   0.00   0.00   0.00  0.000  0.000     4  \n",
              "...              ...    ...    ...    ...    ...    ...   ...  \n",
              "62625        936.670   0.63   0.65   4.32  0.673  0.015  5739  \n",
              "62626        936.678   0.61   0.63   4.18  0.652  0.015  5740  \n",
              "62627        936.687   0.57   0.60   3.95  0.617  0.014  5741  \n",
              "62628        936.680   0.57   0.59   3.92  0.611  0.014  5742  \n",
              "62629        936.676   0.57   0.59   3.90  0.607  0.014  5743  \n",
              "\n",
              "[62630 rows x 13 columns]"
            ],
            "text/html": [
              "\n",
              "  <div id=\"df-174d03ba-1282-498d-8b9a-1877fe0c9ae7\">\n",
              "    <div class=\"colab-df-container\">\n",
              "      <div>\n",
              "<style scoped>\n",
              "    .dataframe tbody tr th:only-of-type {\n",
              "        vertical-align: middle;\n",
              "    }\n",
              "\n",
              "    .dataframe tbody tr th {\n",
              "        vertical-align: top;\n",
              "    }\n",
              "\n",
              "    .dataframe thead th {\n",
              "        text-align: right;\n",
              "    }\n",
              "</style>\n",
              "<table border=\"1\" class=\"dataframe\">\n",
              "  <thead>\n",
              "    <tr style=\"text-align: right;\">\n",
              "      <th></th>\n",
              "      <th>Temperature[C]</th>\n",
              "      <th>Humidity[%]</th>\n",
              "      <th>TVOC[ppb]</th>\n",
              "      <th>eCO2[ppm]</th>\n",
              "      <th>Raw H2</th>\n",
              "      <th>Raw Ethanol</th>\n",
              "      <th>Pressure[hPa]</th>\n",
              "      <th>PM1.0</th>\n",
              "      <th>PM2.5</th>\n",
              "      <th>NC0.5</th>\n",
              "      <th>NC1.0</th>\n",
              "      <th>NC2.5</th>\n",
              "      <th>CNT</th>\n",
              "    </tr>\n",
              "  </thead>\n",
              "  <tbody>\n",
              "    <tr>\n",
              "      <th>0</th>\n",
              "      <td>20.000</td>\n",
              "      <td>57.36</td>\n",
              "      <td>0</td>\n",
              "      <td>400</td>\n",
              "      <td>12306</td>\n",
              "      <td>18520</td>\n",
              "      <td>939.735</td>\n",
              "      <td>0.00</td>\n",
              "      <td>0.00</td>\n",
              "      <td>0.00</td>\n",
              "      <td>0.000</td>\n",
              "      <td>0.000</td>\n",
              "      <td>0</td>\n",
              "    </tr>\n",
              "    <tr>\n",
              "      <th>1</th>\n",
              "      <td>20.015</td>\n",
              "      <td>56.67</td>\n",
              "      <td>0</td>\n",
              "      <td>400</td>\n",
              "      <td>12345</td>\n",
              "      <td>18651</td>\n",
              "      <td>939.744</td>\n",
              "      <td>0.00</td>\n",
              "      <td>0.00</td>\n",
              "      <td>0.00</td>\n",
              "      <td>0.000</td>\n",
              "      <td>0.000</td>\n",
              "      <td>1</td>\n",
              "    </tr>\n",
              "    <tr>\n",
              "      <th>2</th>\n",
              "      <td>20.029</td>\n",
              "      <td>55.96</td>\n",
              "      <td>0</td>\n",
              "      <td>400</td>\n",
              "      <td>12374</td>\n",
              "      <td>18764</td>\n",
              "      <td>939.738</td>\n",
              "      <td>0.00</td>\n",
              "      <td>0.00</td>\n",
              "      <td>0.00</td>\n",
              "      <td>0.000</td>\n",
              "      <td>0.000</td>\n",
              "      <td>2</td>\n",
              "    </tr>\n",
              "    <tr>\n",
              "      <th>3</th>\n",
              "      <td>20.044</td>\n",
              "      <td>55.28</td>\n",
              "      <td>0</td>\n",
              "      <td>400</td>\n",
              "      <td>12390</td>\n",
              "      <td>18849</td>\n",
              "      <td>939.736</td>\n",
              "      <td>0.00</td>\n",
              "      <td>0.00</td>\n",
              "      <td>0.00</td>\n",
              "      <td>0.000</td>\n",
              "      <td>0.000</td>\n",
              "      <td>3</td>\n",
              "    </tr>\n",
              "    <tr>\n",
              "      <th>4</th>\n",
              "      <td>20.059</td>\n",
              "      <td>54.69</td>\n",
              "      <td>0</td>\n",
              "      <td>400</td>\n",
              "      <td>12403</td>\n",
              "      <td>18921</td>\n",
              "      <td>939.744</td>\n",
              "      <td>0.00</td>\n",
              "      <td>0.00</td>\n",
              "      <td>0.00</td>\n",
              "      <td>0.000</td>\n",
              "      <td>0.000</td>\n",
              "      <td>4</td>\n",
              "    </tr>\n",
              "    <tr>\n",
              "      <th>...</th>\n",
              "      <td>...</td>\n",
              "      <td>...</td>\n",
              "      <td>...</td>\n",
              "      <td>...</td>\n",
              "      <td>...</td>\n",
              "      <td>...</td>\n",
              "      <td>...</td>\n",
              "      <td>...</td>\n",
              "      <td>...</td>\n",
              "      <td>...</td>\n",
              "      <td>...</td>\n",
              "      <td>...</td>\n",
              "      <td>...</td>\n",
              "    </tr>\n",
              "    <tr>\n",
              "      <th>62625</th>\n",
              "      <td>18.438</td>\n",
              "      <td>15.79</td>\n",
              "      <td>625</td>\n",
              "      <td>400</td>\n",
              "      <td>13723</td>\n",
              "      <td>20569</td>\n",
              "      <td>936.670</td>\n",
              "      <td>0.63</td>\n",
              "      <td>0.65</td>\n",
              "      <td>4.32</td>\n",
              "      <td>0.673</td>\n",
              "      <td>0.015</td>\n",
              "      <td>5739</td>\n",
              "    </tr>\n",
              "    <tr>\n",
              "      <th>62626</th>\n",
              "      <td>18.653</td>\n",
              "      <td>15.87</td>\n",
              "      <td>612</td>\n",
              "      <td>400</td>\n",
              "      <td>13731</td>\n",
              "      <td>20588</td>\n",
              "      <td>936.678</td>\n",
              "      <td>0.61</td>\n",
              "      <td>0.63</td>\n",
              "      <td>4.18</td>\n",
              "      <td>0.652</td>\n",
              "      <td>0.015</td>\n",
              "      <td>5740</td>\n",
              "    </tr>\n",
              "    <tr>\n",
              "      <th>62627</th>\n",
              "      <td>18.867</td>\n",
              "      <td>15.84</td>\n",
              "      <td>627</td>\n",
              "      <td>400</td>\n",
              "      <td>13725</td>\n",
              "      <td>20582</td>\n",
              "      <td>936.687</td>\n",
              "      <td>0.57</td>\n",
              "      <td>0.60</td>\n",
              "      <td>3.95</td>\n",
              "      <td>0.617</td>\n",
              "      <td>0.014</td>\n",
              "      <td>5741</td>\n",
              "    </tr>\n",
              "    <tr>\n",
              "      <th>62628</th>\n",
              "      <td>19.083</td>\n",
              "      <td>16.04</td>\n",
              "      <td>638</td>\n",
              "      <td>400</td>\n",
              "      <td>13712</td>\n",
              "      <td>20566</td>\n",
              "      <td>936.680</td>\n",
              "      <td>0.57</td>\n",
              "      <td>0.59</td>\n",
              "      <td>3.92</td>\n",
              "      <td>0.611</td>\n",
              "      <td>0.014</td>\n",
              "      <td>5742</td>\n",
              "    </tr>\n",
              "    <tr>\n",
              "      <th>62629</th>\n",
              "      <td>19.299</td>\n",
              "      <td>16.52</td>\n",
              "      <td>643</td>\n",
              "      <td>400</td>\n",
              "      <td>13696</td>\n",
              "      <td>20543</td>\n",
              "      <td>936.676</td>\n",
              "      <td>0.57</td>\n",
              "      <td>0.59</td>\n",
              "      <td>3.90</td>\n",
              "      <td>0.607</td>\n",
              "      <td>0.014</td>\n",
              "      <td>5743</td>\n",
              "    </tr>\n",
              "  </tbody>\n",
              "</table>\n",
              "<p>62630 rows × 13 columns</p>\n",
              "</div>\n",
              "      <button class=\"colab-df-convert\" onclick=\"convertToInteractive('df-174d03ba-1282-498d-8b9a-1877fe0c9ae7')\"\n",
              "              title=\"Convert this dataframe to an interactive table.\"\n",
              "              style=\"display:none;\">\n",
              "        \n",
              "  <svg xmlns=\"http://www.w3.org/2000/svg\" height=\"24px\"viewBox=\"0 0 24 24\"\n",
              "       width=\"24px\">\n",
              "    <path d=\"M0 0h24v24H0V0z\" fill=\"none\"/>\n",
              "    <path d=\"M18.56 5.44l.94 2.06.94-2.06 2.06-.94-2.06-.94-.94-2.06-.94 2.06-2.06.94zm-11 1L8.5 8.5l.94-2.06 2.06-.94-2.06-.94L8.5 2.5l-.94 2.06-2.06.94zm10 10l.94 2.06.94-2.06 2.06-.94-2.06-.94-.94-2.06-.94 2.06-2.06.94z\"/><path d=\"M17.41 7.96l-1.37-1.37c-.4-.4-.92-.59-1.43-.59-.52 0-1.04.2-1.43.59L10.3 9.45l-7.72 7.72c-.78.78-.78 2.05 0 2.83L4 21.41c.39.39.9.59 1.41.59.51 0 1.02-.2 1.41-.59l7.78-7.78 2.81-2.81c.8-.78.8-2.07 0-2.86zM5.41 20L4 18.59l7.72-7.72 1.47 1.35L5.41 20z\"/>\n",
              "  </svg>\n",
              "      </button>\n",
              "      \n",
              "  <style>\n",
              "    .colab-df-container {\n",
              "      display:flex;\n",
              "      flex-wrap:wrap;\n",
              "      gap: 12px;\n",
              "    }\n",
              "\n",
              "    .colab-df-convert {\n",
              "      background-color: #E8F0FE;\n",
              "      border: none;\n",
              "      border-radius: 50%;\n",
              "      cursor: pointer;\n",
              "      display: none;\n",
              "      fill: #1967D2;\n",
              "      height: 32px;\n",
              "      padding: 0 0 0 0;\n",
              "      width: 32px;\n",
              "    }\n",
              "\n",
              "    .colab-df-convert:hover {\n",
              "      background-color: #E2EBFA;\n",
              "      box-shadow: 0px 1px 2px rgba(60, 64, 67, 0.3), 0px 1px 3px 1px rgba(60, 64, 67, 0.15);\n",
              "      fill: #174EA6;\n",
              "    }\n",
              "\n",
              "    [theme=dark] .colab-df-convert {\n",
              "      background-color: #3B4455;\n",
              "      fill: #D2E3FC;\n",
              "    }\n",
              "\n",
              "    [theme=dark] .colab-df-convert:hover {\n",
              "      background-color: #434B5C;\n",
              "      box-shadow: 0px 1px 3px 1px rgba(0, 0, 0, 0.15);\n",
              "      filter: drop-shadow(0px 1px 2px rgba(0, 0, 0, 0.3));\n",
              "      fill: #FFFFFF;\n",
              "    }\n",
              "  </style>\n",
              "\n",
              "      <script>\n",
              "        const buttonEl =\n",
              "          document.querySelector('#df-174d03ba-1282-498d-8b9a-1877fe0c9ae7 button.colab-df-convert');\n",
              "        buttonEl.style.display =\n",
              "          google.colab.kernel.accessAllowed ? 'block' : 'none';\n",
              "\n",
              "        async function convertToInteractive(key) {\n",
              "          const element = document.querySelector('#df-174d03ba-1282-498d-8b9a-1877fe0c9ae7');\n",
              "          const dataTable =\n",
              "            await google.colab.kernel.invokeFunction('convertToInteractive',\n",
              "                                                     [key], {});\n",
              "          if (!dataTable) return;\n",
              "\n",
              "          const docLinkHtml = 'Like what you see? Visit the ' +\n",
              "            '<a target=\"_blank\" href=https://colab.research.google.com/notebooks/data_table.ipynb>data table notebook</a>'\n",
              "            + ' to learn more about interactive tables.';\n",
              "          element.innerHTML = '';\n",
              "          dataTable['output_type'] = 'display_data';\n",
              "          await google.colab.output.renderOutput(dataTable, element);\n",
              "          const docLink = document.createElement('div');\n",
              "          docLink.innerHTML = docLinkHtml;\n",
              "          element.appendChild(docLink);\n",
              "        }\n",
              "      </script>\n",
              "    </div>\n",
              "  </div>\n",
              "  "
            ]
          },
          "metadata": {},
          "execution_count": 594
        }
      ],
      "source": [
        "x_data = dataset.loc[:, \"Temperature[C]\":\"CNT\"]\n",
        "x_data"
      ]
    },
    {
      "cell_type": "code",
      "execution_count": 595,
      "metadata": {
        "id": "2tFxfmKNAqMT",
        "colab": {
          "base_uri": "https://localhost:8080/"
        },
        "outputId": "7800f3c8-d175-406e-988c-af45f0ce41f9"
      },
      "outputs": [
        {
          "output_type": "execute_result",
          "data": {
            "text/plain": [
              "0        0\n",
              "1        0\n",
              "2        0\n",
              "3        0\n",
              "4        0\n",
              "        ..\n",
              "62625    0\n",
              "62626    0\n",
              "62627    0\n",
              "62628    0\n",
              "62629    0\n",
              "Name: Fire Alarm, Length: 62630, dtype: int64"
            ]
          },
          "metadata": {},
          "execution_count": 595
        }
      ],
      "source": [
        "y_data = dataset[\"Fire Alarm\"]\n",
        "y_data"
      ]
    },
    {
      "cell_type": "code",
      "execution_count": 596,
      "metadata": {
        "id": "vj0Xko-3AzOH",
        "colab": {
          "base_uri": "https://localhost:8080/"
        },
        "outputId": "ec3aec59-bcad-4446-db58-f93f0587886e"
      },
      "outputs": [
        {
          "output_type": "execute_result",
          "data": {
            "text/plain": [
              "array([[-0.00901823,  1.26269702, -0.92634561, ..., -2.24624277,\n",
              "        -2.44444444, -0.68953802],\n",
              "       [-0.00797766,  1.14185639, -0.92634561, ..., -2.24624277,\n",
              "        -2.44444444, -0.68946416],\n",
              "       [-0.00700647,  1.01751313, -0.92634561, ..., -2.24624277,\n",
              "        -2.44444444, -0.6893903 ],\n",
              "       ...,\n",
              "       [-0.08761555, -6.00875657, -0.33427762, ..., -1.53294798,\n",
              "        -1.66666667, -0.26551941],\n",
              "       [-0.07263141, -5.9737303 , -0.32389046, ..., -1.53988439,\n",
              "        -1.66666667, -0.26544555],\n",
              "       [-0.05764728, -5.88966725, -0.31916903, ..., -1.54450867,\n",
              "        -1.66666667, -0.26537169]])"
            ]
          },
          "metadata": {},
          "execution_count": 596
        }
      ],
      "source": [
        "from sklearn.preprocessing import RobustScaler\n",
        "data_scaled= RobustScaler()\n",
        "x_scaled=data_scaled.fit_transform(x_data)\n",
        "x_scaled"
      ]
    },
    {
      "cell_type": "code",
      "execution_count": 597,
      "metadata": {
        "id": "-flZUD2aA6mS"
      },
      "outputs": [],
      "source": [
        "x_train, x_test, y_train, y_test = train_test_split(x_scaled, y_data, test_size=0.3) #70-train, 30%-tests"
      ]
    },
    {
      "cell_type": "code",
      "execution_count": 598,
      "metadata": {
        "id": "UYqFhanh_hI2",
        "colab": {
          "base_uri": "https://localhost:8080/"
        },
        "outputId": "7b408728-6f3e-4f95-f247-b854714f9745"
      },
      "outputs": [
        {
          "output_type": "stream",
          "name": "stdout",
          "text": [
            "Доля правильных ответов на тренировочном сете: 1.0000\n",
            "Доля правильных ответов на тестовом сете: 1.0000\n"
          ]
        }
      ],
      "source": [
        "classifier = DecisionTreeClassifier()\n",
        "classifier = classifier.fit(x_train, y_train)\n",
        "y_pred = classifier.predict(x_test)\n",
        "\n",
        "print(\"Доля правильных ответов на тренировочном сете: {:.4f}\".format(classifier.score(x_train, y_train)))\n",
        "print(\"Доля правильных ответов на тестовом сете: {:.4f}\".format(classifier.score(x_test, y_test)))"
      ]
    },
    {
      "cell_type": "code",
      "source": [
        "from sklearn.metrics import accuracy_score, precision_score, f1_score, roc_auc_score, recall_score\n",
        "roc_auc_score(y_test, y_pred),f1_score(y_test, y_pred),recall_score(y_test, y_pred)"
      ],
      "metadata": {
        "id": "k-QOMaI0zwwz",
        "colab": {
          "base_uri": "https://localhost:8080/"
        },
        "outputId": "00580d31-de39-4217-de4e-4412c8f11208"
      },
      "execution_count": 599,
      "outputs": [
        {
          "output_type": "execute_result",
          "data": {
            "text/plain": [
              "(1.0, 1.0, 1.0)"
            ]
          },
          "metadata": {},
          "execution_count": 599
        }
      ]
    },
    {
      "cell_type": "code",
      "source": [
        "from sklearn.metrics import confusion_matrix\n",
        "confusion_matrix(y_test, y_pred)"
      ],
      "metadata": {
        "id": "GRgJZxvx0K4I",
        "colab": {
          "base_uri": "https://localhost:8080/"
        },
        "outputId": "466d8476-6e49-4cdf-c6ef-82966ed9a0ab"
      },
      "execution_count": 600,
      "outputs": [
        {
          "output_type": "execute_result",
          "data": {
            "text/plain": [
              "array([[ 5350,     0],\n",
              "       [    0, 13439]])"
            ]
          },
          "metadata": {},
          "execution_count": 600
        }
      ]
    },
    {
      "cell_type": "code",
      "execution_count": 601,
      "metadata": {
        "id": "kqL9VMXwiDNS",
        "colab": {
          "base_uri": "https://localhost:8080/"
        },
        "outputId": "6e53b687-8b41-4c4e-fbf4-71a71dc60a79"
      },
      "outputs": [
        {
          "output_type": "stream",
          "name": "stdout",
          "text": [
            "Доля правильных ответов на тренировочном сете: 0.9805\n",
            "Доля правильных ответов на тестовом сете: 0.9787\n"
          ]
        }
      ],
      "source": [
        "entr_classifier = DecisionTreeClassifier(criterion=\"entropy\", max_depth=4)\n",
        "entr_classifier.fit(x_train, y_train)\n",
        "y1_pred = entr_classifier.predict(x_test)\n",
        "\n",
        "print(\"Доля правильных ответов на тренировочном сете: {:.4f}\".format(entr_classifier.score(x_train, y_train)))\n",
        "print(\"Доля правильных ответов на тестовом сете: {:.4f}\".format(entr_classifier.score(x_test, y_test)))"
      ]
    },
    {
      "cell_type": "code",
      "execution_count": 602,
      "metadata": {
        "id": "3Wd3Xr_ukKWH",
        "colab": {
          "base_uri": "https://localhost:8080/"
        },
        "outputId": "6190e2e2-1764-4618-bd14-b3ce5ab7836c"
      },
      "outputs": [
        {
          "output_type": "stream",
          "name": "stdout",
          "text": [
            "Доля правильных ответов на тренировочном сете: 0.9995\n",
            "Доля правильных ответов на тестовом сете: 0.9996\n"
          ]
        }
      ],
      "source": [
        "#Случайный лес\n",
        "from sklearn.model_selection import train_test_split\n",
        "from sklearn.ensemble import RandomForestClassifier\n",
        "from sklearn.datasets import make_moons\n",
        "import matplotlib.pyplot as plt\n",
        "\n",
        "rand_forest_classifier = RandomForestClassifier(n_estimators=5, bootstrap = True, max_features = 'sqrt', random_state=2, max_depth=4)\n",
        "rand_forest_classifier = rand_forest_classifier.fit(x_train, y_train)\n",
        "y_pred = rand_forest_classifier.predict(x_test)\n",
        "\n",
        "print(\"Доля правильных ответов на тренировочном сете: {:.4f}\".format(rand_forest_classifier.score(x_train, y_train)))\n",
        "print(\"Доля правильных ответов на тестовом сете: {:.4f}\".format(rand_forest_classifier.score(x_test, y_test)))"
      ]
    },
    {
      "cell_type": "code",
      "source": [
        "# многослойный перцептрон"
      ],
      "metadata": {
        "id": "DP9QjBSCXQfu"
      },
      "execution_count": 603,
      "outputs": []
    },
    {
      "cell_type": "code",
      "source": [
        "from sklearn.preprocessing import MinMaxScaler\n",
        "from sklearn.model_selection import train_test_split\n",
        "import pandas as pd\n",
        "data_scaled = MinMaxScaler()\n",
        "x_data = dataset.loc[:, \"Temperature[C]\":\"CNT\"]\n",
        "y_data = dataset[\"Fire Alarm\"]\n",
        "x_scaled=data_scaled.fit_transform(x_data)\n",
        "X = pd.DataFrame(x_scaled, columns=x_data.columns)\n",
        "X_train, X_test, Y_train, Y_test = train_test_split(x_data, y_data, test_size=0.3)"
      ],
      "metadata": {
        "id": "whiUKW0ReLaW"
      },
      "execution_count": 604,
      "outputs": []
    },
    {
      "cell_type": "code",
      "source": [
        "X_train.shape"
      ],
      "metadata": {
        "colab": {
          "base_uri": "https://localhost:8080/"
        },
        "id": "08_4-gxDCqmJ",
        "outputId": "cb6cea0b-a4ee-480a-958f-48f2795f8841"
      },
      "execution_count": 605,
      "outputs": [
        {
          "output_type": "execute_result",
          "data": {
            "text/plain": [
              "(43841, 13)"
            ]
          },
          "metadata": {},
          "execution_count": 605
        }
      ]
    },
    {
      "cell_type": "code",
      "source": [
        "X_test.shape"
      ],
      "metadata": {
        "colab": {
          "base_uri": "https://localhost:8080/"
        },
        "id": "vyUfk9weCrun",
        "outputId": "0a1c2fe1-417b-4839-8724-96b9760a8e20"
      },
      "execution_count": 606,
      "outputs": [
        {
          "output_type": "execute_result",
          "data": {
            "text/plain": [
              "(18789, 13)"
            ]
          },
          "metadata": {},
          "execution_count": 606
        }
      ]
    },
    {
      "cell_type": "code",
      "source": [
        "Y_test.shape"
      ],
      "metadata": {
        "colab": {
          "base_uri": "https://localhost:8080/"
        },
        "id": "iqlFGSchCwPY",
        "outputId": "65c1e440-2a55-4e94-9e3d-f86f51c8324f"
      },
      "execution_count": 607,
      "outputs": [
        {
          "output_type": "execute_result",
          "data": {
            "text/plain": [
              "(18789,)"
            ]
          },
          "metadata": {},
          "execution_count": 607
        }
      ]
    },
    {
      "cell_type": "code",
      "source": [
        "import torch\n",
        "import numpy as np\n",
        "\n",
        "X_train = torch.from_numpy(X_train.values.astype(np.float32))\n",
        "Y_train = torch.from_numpy(Y_train.values.astype(np.float32))\n",
        "\n",
        "X_test = torch.from_numpy(X_test.values.astype(np.float32))\n",
        "Y_test = torch.from_numpy(Y_test.values.astype(np.float32))"
      ],
      "metadata": {
        "id": "BGYGUE0MCzK8"
      },
      "execution_count": 608,
      "outputs": []
    },
    {
      "cell_type": "code",
      "source": [
        "from torch.utils.data import TensorDataset, DataLoader\n",
        "\n",
        "train_ds = TensorDataset(X_train, Y_train)\n",
        "test_ds = TensorDataset(X_test, Y_test)\n",
        "\n",
        "BATCH_SIZE = 32\n",
        "train_dl = DataLoader(train_ds, batch_size=BATCH_SIZE, shuffle=True)\n",
        "test_dl = DataLoader(test_ds, batch_size=BATCH_SIZE, shuffle=True)"
      ],
      "metadata": {
        "id": "lspLqSWzC4wx"
      },
      "execution_count": 609,
      "outputs": []
    },
    {
      "cell_type": "code",
      "source": [
        "from torch import nn\n",
        "\n",
        "model = nn.Sequential(\n",
        "    nn.Linear(13, 256),\n",
        "    nn.ReLU(),\n",
        "    nn.Linear(256, 128),\n",
        "    nn.ReLU(),\n",
        "    nn.Linear(128, 64),\n",
        "    nn.ReLU(),\n",
        "    nn.Linear(64, 1),\n",
        "    nn.Sigmoid()\n",
        ")\n",
        "\n",
        "print(model)"
      ],
      "metadata": {
        "id": "O6-CS827C7yW",
        "colab": {
          "base_uri": "https://localhost:8080/"
        },
        "outputId": "6c84b653-d6c0-4067-adfb-a359805d06ac"
      },
      "execution_count": 610,
      "outputs": [
        {
          "output_type": "stream",
          "name": "stdout",
          "text": [
            "Sequential(\n",
            "  (0): Linear(in_features=13, out_features=256, bias=True)\n",
            "  (1): ReLU()\n",
            "  (2): Linear(in_features=256, out_features=128, bias=True)\n",
            "  (3): ReLU()\n",
            "  (4): Linear(in_features=128, out_features=64, bias=True)\n",
            "  (5): ReLU()\n",
            "  (6): Linear(in_features=64, out_features=1, bias=True)\n",
            "  (7): Sigmoid()\n",
            ")\n"
          ]
        }
      ]
    },
    {
      "cell_type": "code",
      "source": [
        "device = torch.device(\"cuda:0\" if torch.cuda.is_available() else \"cpu\")\n",
        "model.to(device)\n",
        "X_train = X_train.to(device)\n",
        "Y_train = Y_train.to(device)\n",
        "X_test = X_test.to(device)\n",
        "Y_test = Y_test.to(device)"
      ],
      "metadata": {
        "id": "VhgefoJdUqrF"
      },
      "execution_count": 611,
      "outputs": []
    },
    {
      "cell_type": "code",
      "source": [
        "loss_fn = nn.MSELoss()\n",
        "LEARNING_RATE = 1e-5\n",
        "optimizer = torch.optim.Adam(model.parameters(), lr=LEARNING_RATE)"
      ],
      "metadata": {
        "id": "P_QT4JDEDAfb"
      },
      "execution_count": 612,
      "outputs": []
    },
    {
      "cell_type": "code",
      "source": [
        "EPOCHS = 10\n",
        "losses = []\n",
        "model.train()\n",
        "        \n",
        "for epoch in range(EPOCHS):\n",
        "    epoch_loss = 0\n",
        "    train_accuracy = 0\n",
        "    for i, data in enumerate(train_dl):\n",
        "        optimizer.zero_grad()\n",
        "        x_batch , y_batch = data\n",
        "        x_batch = x_batch.to(device)\n",
        "        y_batch = y_batch.unsqueeze(1).float()\n",
        "        y_batch = y_batch.to(device)\n",
        "\n",
        "        yhat = model(x_batch)\n",
        "        loss = loss_fn(yhat, y_batch)\n",
        "        train_accuracy += y_batch.eq(torch.round(yhat)).sum() / len(x_batch)\n",
        "\n",
        "        loss.backward()\n",
        "        optimizer.step()\n",
        "       \n",
        "        epoch_loss += loss.item()\n",
        "    \n",
        "    losses.append(epoch_loss/len(train_dl))\n",
        "    print('\\nEpoch : {}, train loss : {}, acc : {}'.format(epoch+1, epoch_loss, train_accuracy / len(train_dl)))"
      ],
      "metadata": {
        "id": "wysMO84aDDHS",
        "colab": {
          "base_uri": "https://localhost:8080/"
        },
        "outputId": "08e3560a-b6b5-4f08-bacb-d004ff61dabe"
      },
      "execution_count": 613,
      "outputs": [
        {
          "output_type": "stream",
          "name": "stdout",
          "text": [
            "\n",
            "Epoch : 1, train loss : 161.84202672533021, acc : 0.8802881240844727\n",
            "\n",
            "Epoch : 2, train loss : 63.717084164132416, acc : 0.9514496922492981\n",
            "\n",
            "Epoch : 3, train loss : 55.4896222821551, acc : 0.9575583338737488\n",
            "\n",
            "Epoch : 4, train loss : 53.50680075264409, acc : 0.9588347673416138\n",
            "\n",
            "Epoch : 5, train loss : 48.41403439703291, acc : 0.9631199836730957\n",
            "\n",
            "Epoch : 6, train loss : 46.571893281742646, acc : 0.9643280506134033\n",
            "\n",
            "Epoch : 7, train loss : 36.17796676260731, acc : 0.9715763926506042\n",
            "\n",
            "Epoch : 8, train loss : 26.139312860307722, acc : 0.9785512685775757\n",
            "\n",
            "Epoch : 9, train loss : 21.221373376590247, acc : 0.9829276204109192\n",
            "\n",
            "Epoch : 10, train loss : 22.097448380431555, acc : 0.9823577404022217\n"
          ]
        }
      ]
    },
    {
      "cell_type": "code",
      "source": [
        "from matplotlib import pyplot as plt\n",
        "\n",
        "plt.figure(figsize=(6, 4))\n",
        "plt.plot(range(len(losses)), losses)\n",
        "plt.xlabel(\"Iteration\")\n",
        "plt.ylabel(\"Loss\")\n",
        "plt.show()"
      ],
      "metadata": {
        "id": "DXRYsD69Ehxc",
        "colab": {
          "base_uri": "https://localhost:8080/",
          "height": 388
        },
        "outputId": "246b53e2-982b-4ef0-b329-ec9d536c4cc8"
      },
      "execution_count": 614,
      "outputs": [
        {
          "output_type": "display_data",
          "data": {
            "text/plain": [
              "<Figure size 600x400 with 1 Axes>"
            ],
            "image/png": "[encoded data removed]"
          },
          "metadata": {}
        }
      ]
    },
    {
      "cell_type": "code",
      "source": [
        "it = iter(test_ds)\n",
        "x, y = next(it)\n",
        "x, y"
      ],
      "metadata": {
        "id": "GY2jIyecFhRv",
        "colab": {
          "base_uri": "https://localhost:8080/"
        },
        "outputId": "2f450c46-8910-4c55-fac9-b6ba1b9a42bb"
      },
      "execution_count": 615,
      "outputs": [
        {
          "output_type": "execute_result",
          "data": {
            "text/plain": [
              "(tensor([1.8810e+01, 4.8720e+01, 3.6000e+01, 4.0000e+02, 1.3129e+04, 2.0021e+04,\n",
              "         9.3962e+02, 7.1000e-01, 7.4000e-01, 4.8800e+00, 7.6100e-01, 1.7000e-02,\n",
              "         1.7840e+03]),\n",
              " tensor(0.))"
            ]
          },
          "metadata": {},
          "execution_count": 615
        }
      ]
    },
    {
      "cell_type": "code",
      "source": [
        "with torch.no_grad():\n",
        "  y_pred = model(x)\n",
        "y_pred"
      ],
      "metadata": {
        "id": "FAaoSDEOFlV3",
        "colab": {
          "base_uri": "https://localhost:8080/"
        },
        "outputId": "02d1bb0f-b957-4496-8583-d0cfd55132a8"
      },
      "execution_count": 616,
      "outputs": [
        {
          "output_type": "execute_result",
          "data": {
            "text/plain": [
              "tensor([3.9067e-12])"
            ]
          },
          "metadata": {},
          "execution_count": 616
        }
      ]
    },
    {
      "cell_type": "code",
      "source": [
        "abs(y - y_pred)"
      ],
      "metadata": {
        "id": "JJiy-KcHFnlu",
        "colab": {
          "base_uri": "https://localhost:8080/"
        },
        "outputId": "06ed17e2-15f9-40db-b6f8-4f2fe5a005de"
      },
      "execution_count": 617,
      "outputs": [
        {
          "output_type": "execute_result",
          "data": {
            "text/plain": [
              "tensor([3.9067e-12])"
            ]
          },
          "metadata": {},
          "execution_count": 617
        }
      ]
    },
    {
      "cell_type": "code",
      "source": [
        "with torch.no_grad():\n",
        "  outp = model(X_test)\n",
        "Y_pred = torch.reshape(outp, (-1,))\n",
        "print(torch.mean(torch.abs(Y_pred - Y_test)))"
      ],
      "metadata": {
        "id": "PJr57STjFqrT",
        "colab": {
          "base_uri": "https://localhost:8080/"
        },
        "outputId": "d37cd36e-94ab-4371-9620-7972e3f39a35"
      },
      "execution_count": 618,
      "outputs": [
        {
          "output_type": "stream",
          "name": "stdout",
          "text": [
            "tensor(0.0118)\n"
          ]
        }
      ]
    },
    {
      "cell_type": "code",
      "source": [
        "predictions = model(X_test)\n",
        "valid = [1 if torch.argmax(p) == l else 0 for p, l in zip(predictions, Y_test)]\n",
        "sum(valid) / len(valid)"
      ],
      "metadata": {
        "id": "ih4XCtZEEZ53",
        "colab": {
          "base_uri": "https://localhost:8080/"
        },
        "outputId": "0fa6ed40-3fa7-4c7d-d593-36909426b63f"
      },
      "execution_count": 619,
      "outputs": [
        {
          "output_type": "execute_result",
          "data": {
            "text/plain": [
              "0.2881473202405663"
            ]
          },
          "metadata": {},
          "execution_count": 619
        }
      ]
    }
  ],
  "metadata": {
    "colab": {
      "provenance": [],
      "include_colab_link": true
    },
    "kernelspec": {
      "display_name": "Python 3",
      "name": "python3"
    },
    "language_info": {
      "name": "python"
    }
  },
  "nbformat": 4,
  "nbformat_minor": 0
}